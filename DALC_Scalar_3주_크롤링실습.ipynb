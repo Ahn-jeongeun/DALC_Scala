{
  "nbformat": 4,
  "nbformat_minor": 0,
  "metadata": {
    "colab": {
      "name": "DALC_Scalar_3주_크롤링실습.ipynb",
      "provenance": [],
      "collapsed_sections": [],
      "toc_visible": true,
      "include_colab_link": true
    },
    "kernelspec": {
      "name": "python3",
      "display_name": "Python 3"
    },
    "language_info": {
      "name": "python"
    }
  },
  "cells": [
    {
      "cell_type": "markdown",
      "metadata": {
        "id": "view-in-github",
        "colab_type": "text"
      },
      "source": [
        "<a href=\"https://colab.research.google.com/github/Ahn-jeongeun/DALC_Scala/blob/main/DALC_Scalar_3%EC%A3%BC_%ED%81%AC%EB%A1%A4%EB%A7%81%EC%8B%A4%EC%8A%B5.ipynb\" target=\"_parent\"><img src=\"https://colab.research.google.com/assets/colab-badge.svg\" alt=\"Open In Colab\"/></a>"
      ]
    },
    {
      "cell_type": "markdown",
      "metadata": {
        "id": "mObcs-J5v547"
      },
      "source": [
        "# 네이버 크롤링 "
      ]
    },
    {
      "cell_type": "markdown",
      "metadata": {
        "id": "IziUe8Y8ENAN"
      },
      "source": [
        "## 크롤링 시작 전 필요한 개념"
      ]
    },
    {
      "cell_type": "markdown",
      "metadata": {
        "id": "TzUvGoGXHdRK"
      },
      "source": [
        "### 필요한 용어 간단 정리\n",
        "url : 인터넷 주소  \n",
        "http : 인터넷 주소 앞에 붙는 것 protocol  \n",
        "html : 인터넷에서 문서를 보여줄때 쓰는 표현식들  \n",
        "hyper text markup language(HTML)  \n",
        "하이퍼텍스트 마크업 랭기지  \n",
        "server : 페이지를 서빙해주는 곳 (naver, google)\n"
      ]
    },
    {
      "cell_type": "markdown",
      "metadata": {
        "id": "mJN7KMO-L8Ji"
      },
      "source": [
        "### 트리 구조\n",
        "\n",
        "<pre>\n",
        "여행가는 책\n",
        "책시작\n",
        "\t1장 비행기 타는 법\n",
        "\t\t1절 한국에서 가능법\n",
        "\t\t2절 외국에서 오는법\n",
        "\t2장 숙소로 이동 하는 법\n",
        "책끝 맺음말\n",
        "</pre>\n",
        "\n",
        "```html\n",
        "<html>\n",
        "\t<div>\n",
        "\t\t<ul>\n",
        "\t\t\t<li>\n",
        "\t\t\t\t<a>\n",
        "\t\t\t\t\t<span>\n",
        "```"
      ]
    },
    {
      "cell_type": "markdown",
      "metadata": {
        "id": "znC7zouTaz7s"
      },
      "source": [
        "### Request를 이용한 크롤링\n",
        "\n",
        "```\n",
        "# 원하는 정보가 있는 위치 찾기 \n",
        "\n",
        "soup.select('원하는 정보')  # select('원하는 정보') -->  단 하나만 있더라도, 복수 가능한 형태로 되어있음\n",
        "\n",
        "soup.select('태그명')\n",
        "soup.select('.클래스명')\n",
        "soup.select('상위태그명 > 하위태그명 > 하위태그명')\n",
        "soup.select('상위태그명.클래스명 > 하위태그명.클래스명')    # 바로 아래의(자식) 태그를 선택시에는 > 기호를 사용\n",
        "soup.select('상위태그명.클래스명 하~위태그명')              # 아래의(자손) 태그를 선택시에는   띄어쓰기 사용\n",
        "soup.select('상위태그명 > 바로아래태그명 하~위태그명')     \n",
        "soup.select('.클래스명')\n",
        "soup.select('#아이디명')                  # 태그는 여러개에 사용 가능하나 아이디는 한번만 사용 가능함! ==> 선택하기 좋음\n",
        "soup.select('태그명.클래스명)\n",
        "soup.select('#아이디명 > 태그명.클래스명)\n",
        "soup.select('태그명[속성1=값1]')\n",
        "```"
      ]
    },
    {
      "cell_type": "markdown",
      "metadata": {
        "id": "z-00f2mhENtq"
      },
      "source": [
        "### BeautifulSoup 개념\n",
        "데이터를 추출하는데 필요한 기능이 들어있는 라이브러리\n",
        "- 이상한나라의 앨리스에 나오는 동명의 시에서 이름을 따옴. \n",
        "- 잘못된 HTML을 수정하여 쉽게 탐색할 수 있는 XML 형식의 파이썬 객체로 변환하므로 골치아픈 웹을 탐색할 때 유용하다."
      ]
    },
    {
      "cell_type": "markdown",
      "metadata": {
        "id": "UMBaz4vKKYj3"
      },
      "source": [
        "#### 코드를 실행 할때.. \n",
        "- 일단 코드 돌려보고 결과 확인하기\n",
        "- urlopen() 안에 있는 url주소의 웹페이지가 가 어떻게 생겼는지 확인하기\n",
        "- 해당 웹페이지에서 개발자도구를 통해 어떤 태그와 속성이 있는지 확인하기"
      ]
    },
    {
      "cell_type": "markdown",
      "metadata": {
        "id": "-OHVb3N9ERTZ"
      },
      "source": [
        "### BeautifulSoup 사용법"
      ]
    },
    {
      "cell_type": "code",
      "metadata": {
        "id": "og44ruSHv293",
        "colab": {
          "base_uri": "https://localhost:8080/"
        },
        "outputId": "7b3afbe2-07b2-4873-a685-2af4045e45b6"
      },
      "source": [
        "# http request(리퀘스트)를 하는 라이브러리가 urllib입니다. \n",
        "from urllib.request import urlopen\n",
        "from bs4 import BeautifulSoup\n",
        "\n",
        "# urlopen() 함수는 파라메터로 url을 받고 서버에서 사용자에게 보내준 데이터를 return합니다.\n",
        "html = urlopen('http://www.pythonscraping.com/pages/warandpeace.html')\n",
        "bs = BeautifulSoup(html, \"html.parser\") \n",
        "print(bs.h1)"
      ],
      "execution_count": null,
      "outputs": [
        {
          "output_type": "stream",
          "text": [
            "<h1>War and Peace</h1>\n"
          ],
          "name": "stdout"
        }
      ]
    },
    {
      "cell_type": "markdown",
      "metadata": {
        "id": "wP5igvk5E0Wt"
      },
      "source": [
        "### BeautifulSoup 기초 코드 설명\n",
        "\n",
        "```\n",
        "bs = BeautifulSoup(html, \"html.parser\") \n",
        "```\n",
        "첫번째 매개변수:  html \n",
        "-> 이 객체의 근간이 되는 html텍스트이다.   \n",
        "두번째 매개변수: \"html.parser\"\n",
        "-> 구문분석기 (직접 지정할 수 있지만 대개 이걸 쓴다)\n",
        "  \n",
        "---\n",
        "\n",
        "> lxml  \n",
        "\n",
        "- 이것도 널리쓰이는 구문분석기이다. \n",
        "형식을 정확히 지키지 않은 지저분한 html코드를 분석할때 \"html.parser\"보다 좀더 낫다. \n",
        "\n",
        "로컬에서 사용할떄: 먼저 설치하기\n",
        "```\n",
        "$ pip3 install lxml\n",
        "```\n",
        "\n",
        "아래처럼 사용하면 된다.\n",
        "```\n",
        "bs = BeautifulSoup(html.read(), \"lxml\")\n",
        "```\n",
        "---\n",
        "> html5lib\n",
        "\n",
        "- 널리쓰이는 구문분석기\n",
        "\n",
        "```\n",
        "bs = BeautifulSoup(html.read(), \"html5lib\")\n",
        "```\n",
        "\n",
        "\n",
        "\n",
        "\n",
        "\n",
        "\n"
      ]
    },
    {
      "cell_type": "markdown",
      "metadata": {
        "id": "oAsXM5QPbHrd"
      },
      "source": [
        "### 사용할 모든 라이브러리 불러오기"
      ]
    },
    {
      "cell_type": "code",
      "metadata": {
        "colab": {
          "base_uri": "https://localhost:8080/"
        },
        "id": "mglynb9PYhqu",
        "outputId": "c6864509-efd8-4587-fa32-088ceb4d3e38"
      },
      "source": [
        "!pip install selenium"
      ],
      "execution_count": null,
      "outputs": [
        {
          "output_type": "stream",
          "text": [
            "Collecting selenium\n",
            "\u001b[?25l  Downloading https://files.pythonhosted.org/packages/80/d6/4294f0b4bce4de0abf13e17190289f9d0613b0a44e5dd6a7f5ca98459853/selenium-3.141.0-py2.py3-none-any.whl (904kB)\n",
            "\r\u001b[K     |▍                               | 10kB 15.0MB/s eta 0:00:01\r\u001b[K     |▊                               | 20kB 20.3MB/s eta 0:00:01\r\u001b[K     |█                               | 30kB 20.2MB/s eta 0:00:01\r\u001b[K     |█▌                              | 40kB 11.8MB/s eta 0:00:01\r\u001b[K     |█▉                              | 51kB 6.6MB/s eta 0:00:01\r\u001b[K     |██▏                             | 61kB 7.2MB/s eta 0:00:01\r\u001b[K     |██▌                             | 71kB 7.8MB/s eta 0:00:01\r\u001b[K     |███                             | 81kB 8.2MB/s eta 0:00:01\r\u001b[K     |███▎                            | 92kB 8.5MB/s eta 0:00:01\r\u001b[K     |███▋                            | 102kB 9.1MB/s eta 0:00:01\r\u001b[K     |████                            | 112kB 9.1MB/s eta 0:00:01\r\u001b[K     |████▍                           | 122kB 9.1MB/s eta 0:00:01\r\u001b[K     |████▊                           | 133kB 9.1MB/s eta 0:00:01\r\u001b[K     |█████                           | 143kB 9.1MB/s eta 0:00:01\r\u001b[K     |█████▍                          | 153kB 9.1MB/s eta 0:00:01\r\u001b[K     |█████▉                          | 163kB 9.1MB/s eta 0:00:01\r\u001b[K     |██████▏                         | 174kB 9.1MB/s eta 0:00:01\r\u001b[K     |██████▌                         | 184kB 9.1MB/s eta 0:00:01\r\u001b[K     |██████▉                         | 194kB 9.1MB/s eta 0:00:01\r\u001b[K     |███████▎                        | 204kB 9.1MB/s eta 0:00:01\r\u001b[K     |███████▋                        | 215kB 9.1MB/s eta 0:00:01\r\u001b[K     |████████                        | 225kB 9.1MB/s eta 0:00:01\r\u001b[K     |████████▎                       | 235kB 9.1MB/s eta 0:00:01\r\u001b[K     |████████▊                       | 245kB 9.1MB/s eta 0:00:01\r\u001b[K     |█████████                       | 256kB 9.1MB/s eta 0:00:01\r\u001b[K     |█████████▍                      | 266kB 9.1MB/s eta 0:00:01\r\u001b[K     |█████████▉                      | 276kB 9.1MB/s eta 0:00:01\r\u001b[K     |██████████▏                     | 286kB 9.1MB/s eta 0:00:01\r\u001b[K     |██████████▌                     | 296kB 9.1MB/s eta 0:00:01\r\u001b[K     |██████████▉                     | 307kB 9.1MB/s eta 0:00:01\r\u001b[K     |███████████▎                    | 317kB 9.1MB/s eta 0:00:01\r\u001b[K     |███████████▋                    | 327kB 9.1MB/s eta 0:00:01\r\u001b[K     |████████████                    | 337kB 9.1MB/s eta 0:00:01\r\u001b[K     |████████████▎                   | 348kB 9.1MB/s eta 0:00:01\r\u001b[K     |████████████▊                   | 358kB 9.1MB/s eta 0:00:01\r\u001b[K     |█████████████                   | 368kB 9.1MB/s eta 0:00:01\r\u001b[K     |█████████████▍                  | 378kB 9.1MB/s eta 0:00:01\r\u001b[K     |█████████████▊                  | 389kB 9.1MB/s eta 0:00:01\r\u001b[K     |██████████████▏                 | 399kB 9.1MB/s eta 0:00:01\r\u001b[K     |██████████████▌                 | 409kB 9.1MB/s eta 0:00:01\r\u001b[K     |██████████████▉                 | 419kB 9.1MB/s eta 0:00:01\r\u001b[K     |███████████████▏                | 430kB 9.1MB/s eta 0:00:01\r\u001b[K     |███████████████▋                | 440kB 9.1MB/s eta 0:00:01\r\u001b[K     |████████████████                | 450kB 9.1MB/s eta 0:00:01\r\u001b[K     |████████████████▎               | 460kB 9.1MB/s eta 0:00:01\r\u001b[K     |████████████████▋               | 471kB 9.1MB/s eta 0:00:01\r\u001b[K     |█████████████████               | 481kB 9.1MB/s eta 0:00:01\r\u001b[K     |█████████████████▍              | 491kB 9.1MB/s eta 0:00:01\r\u001b[K     |█████████████████▊              | 501kB 9.1MB/s eta 0:00:01\r\u001b[K     |██████████████████▏             | 512kB 9.1MB/s eta 0:00:01\r\u001b[K     |██████████████████▌             | 522kB 9.1MB/s eta 0:00:01\r\u001b[K     |██████████████████▉             | 532kB 9.1MB/s eta 0:00:01\r\u001b[K     |███████████████████▏            | 542kB 9.1MB/s eta 0:00:01\r\u001b[K     |███████████████████▋            | 552kB 9.1MB/s eta 0:00:01\r\u001b[K     |████████████████████            | 563kB 9.1MB/s eta 0:00:01\r\u001b[K     |████████████████████▎           | 573kB 9.1MB/s eta 0:00:01\r\u001b[K     |████████████████████▋           | 583kB 9.1MB/s eta 0:00:01\r\u001b[K     |█████████████████████           | 593kB 9.1MB/s eta 0:00:01\r\u001b[K     |█████████████████████▍          | 604kB 9.1MB/s eta 0:00:01\r\u001b[K     |█████████████████████▊          | 614kB 9.1MB/s eta 0:00:01\r\u001b[K     |██████████████████████          | 624kB 9.1MB/s eta 0:00:01\r\u001b[K     |██████████████████████▌         | 634kB 9.1MB/s eta 0:00:01\r\u001b[K     |██████████████████████▉         | 645kB 9.1MB/s eta 0:00:01\r\u001b[K     |███████████████████████▏        | 655kB 9.1MB/s eta 0:00:01\r\u001b[K     |███████████████████████▌        | 665kB 9.1MB/s eta 0:00:01\r\u001b[K     |████████████████████████        | 675kB 9.1MB/s eta 0:00:01\r\u001b[K     |████████████████████████▎       | 686kB 9.1MB/s eta 0:00:01\r\u001b[K     |████████████████████████▋       | 696kB 9.1MB/s eta 0:00:01\r\u001b[K     |█████████████████████████       | 706kB 9.1MB/s eta 0:00:01\r\u001b[K     |█████████████████████████▍      | 716kB 9.1MB/s eta 0:00:01\r\u001b[K     |█████████████████████████▊      | 727kB 9.1MB/s eta 0:00:01\r\u001b[K     |██████████████████████████      | 737kB 9.1MB/s eta 0:00:01\r\u001b[K     |██████████████████████████▍     | 747kB 9.1MB/s eta 0:00:01\r\u001b[K     |██████████████████████████▉     | 757kB 9.1MB/s eta 0:00:01\r\u001b[K     |███████████████████████████▏    | 768kB 9.1MB/s eta 0:00:01\r\u001b[K     |███████████████████████████▌    | 778kB 9.1MB/s eta 0:00:01\r\u001b[K     |████████████████████████████    | 788kB 9.1MB/s eta 0:00:01\r\u001b[K     |████████████████████████████▎   | 798kB 9.1MB/s eta 0:00:01\r\u001b[K     |████████████████████████████▋   | 808kB 9.1MB/s eta 0:00:01\r\u001b[K     |█████████████████████████████   | 819kB 9.1MB/s eta 0:00:01\r\u001b[K     |█████████████████████████████▍  | 829kB 9.1MB/s eta 0:00:01\r\u001b[K     |█████████████████████████████▊  | 839kB 9.1MB/s eta 0:00:01\r\u001b[K     |██████████████████████████████  | 849kB 9.1MB/s eta 0:00:01\r\u001b[K     |██████████████████████████████▍ | 860kB 9.1MB/s eta 0:00:01\r\u001b[K     |██████████████████████████████▉ | 870kB 9.1MB/s eta 0:00:01\r\u001b[K     |███████████████████████████████▏| 880kB 9.1MB/s eta 0:00:01\r\u001b[K     |███████████████████████████████▌| 890kB 9.1MB/s eta 0:00:01\r\u001b[K     |███████████████████████████████▉| 901kB 9.1MB/s eta 0:00:01\r\u001b[K     |████████████████████████████████| 911kB 9.1MB/s \n",
            "\u001b[?25hRequirement already satisfied: urllib3 in /usr/local/lib/python3.7/dist-packages (from selenium) (1.24.3)\n",
            "Installing collected packages: selenium\n",
            "Successfully installed selenium-3.141.0\n"
          ],
          "name": "stdout"
        }
      ]
    },
    {
      "cell_type": "code",
      "metadata": {
        "id": "Lix2IQeWWwZO"
      },
      "source": [
        "import requests\n",
        "import pandas as pd\n",
        "from bs4 import BeautifulSoup\n",
        "\n",
        "from selenium import webdriver\n",
        "from IPython.display import Image\n",
        "import os\n",
        "from pathlib import Path\n",
        "import glob\n",
        "\n",
        "import datetime\n",
        "\n",
        "from multiprocess import Pool\n",
        "import concurrent\n",
        "\n",
        "from tqdm import tqdm"
      ],
      "execution_count": null,
      "outputs": []
    },
    {
      "cell_type": "markdown",
      "metadata": {
        "id": "n8NFV3WBv-A3"
      },
      "source": [
        "## 1. 네이버 메뉴 크롤링\n",
        "- [참고 강의](PLAdQRRy4vtQRzdg7D9n1rkDp9DIeWpBQ9)\n",
        "<- 예전 네이버 html이기 때문에 조금 다릅니다!"
      ]
    },
    {
      "cell_type": "code",
      "metadata": {
        "id": "wx5WcfSGM_am",
        "colab": {
          "base_uri": "https://localhost:8080/"
        },
        "outputId": "f8f418f0-65bc-481b-dbee-c357c61d2554"
      },
      "source": [
        "# ? 부분을 채워주세요\n",
        "import urllib.request\n",
        "import bs4\n",
        "\n",
        "url2 = \"http://www.naver.com\"\n",
        "html2 = urllib.request.urlopen(url2)\n",
        "\n",
        "bs2 = bs4.BeautifulSoup(html2, \"html.parser\") \n",
        "ul = bs2.find(\"ul\", {\"class\":\"list_nav type_fix\"}) \n",
        "lis = ul.findAll(\"li\", {\"class\":\"nav_item\"}) \n",
        "\n",
        "for li in lis:\n",
        "  a_tag = li.find(\"a\", {\"class\":\"nav\"}) \n",
        "  print(a_tag.text)"
      ],
      "execution_count": 49,
      "outputs": [
        {
          "output_type": "stream",
          "text": [
            "메일\n",
            "카페\n",
            "블로그\n",
            "지식iN\n",
            "쇼핑\n",
            "Pay\n",
            "TV\n"
          ],
          "name": "stdout"
        }
      ]
    },
    {
      "cell_type": "code",
      "metadata": {
        "colab": {
          "base_uri": "https://localhost:8080/"
        },
        "id": "rf9xdmJiRbYy",
        "outputId": "9589f98a-5276-4c28-a7f3-23737fb54a75"
      },
      "source": [
        "# ? 부분을 채워주세요\n",
        "url2 = \"http://www.naver.com\"\n",
        "html2 = urllib.request.urlopen(url2)\n",
        "\n",
        "bs2 = bs4.BeautifulSoup(html2, \"?\") \n",
        "ul = bs2.find(\"ul\", {\"class\":\"?\"})\n",
        "lis = ul.findAll(\"?\", {\"class\":\"?\"}) \n",
        "\n",
        "for li in lis:\n",
        "  a_tag = li.find(\"a\", {\"class\":\"?\"}) \n",
        "  print(a_tag.text)"
      ],
      "execution_count": null,
      "outputs": [
        {
          "output_type": "stream",
          "text": [
            "사전\n",
            "뉴스\n",
            "증권\n",
            "부동산\n",
            "지도\n",
            "영화\n",
            "VIBE\n",
            "책\n",
            "웹툰\n"
          ],
          "name": "stdout"
        }
      ]
    },
    {
      "cell_type": "markdown",
      "metadata": {
        "id": "DzyipnWhXJNt"
      },
      "source": [
        "## 2. 네이버 코스피 시가총액 순위 csv 만들기\n",
        "\n"
      ]
    },
    {
      "cell_type": "markdown",
      "metadata": {
        "id": "ewQC4ndwV062"
      },
      "source": [
        "### 개발자 도구를 통해 태그 확인"
      ]
    },
    {
      "cell_type": "markdown",
      "metadata": {
        "id": "VKp6cuKLVxr0"
      },
      "source": [
        "### 가져온 데이터 정제\n",
        "- 공백 제거"
      ]
    },
    {
      "cell_type": "code",
      "metadata": {
        "colab": {
          "base_uri": "https://localhost:8080/",
          "height": 136
        },
        "id": "8VvRtHjJV5nJ",
        "outputId": "de991bce-451f-49b3-b4f1-0a8739f3207d"
      },
      "source": [
        "# ? 부분을 채워주세요 \n",
        "for page in range(1,5):\n",
        "  res = requests.get(tlt_page + str(page)) \n",
        "  res.raise_for_status()\n",
        "  soup = BeautifulSoup(res.text, 'lxml')\n",
        "\n",
        "  data_rows = soup.find(\"table\" ,attrs={\"class\":\"type_2\"}).find(\"tbody\").find_all(\"tr\")\n",
        "  for row in data_rows:\n",
        "    columns = row.find_all(\"td\")\n",
        "    if len(columns) <= number:1 # 힌트: 숫자(정수)\n",
        "      continue\n",
        "    data = [ column.get_text().script.for column in columns] #힌트: 공백제거함수\n",
        "    print(data)"
      ],
      "execution_count": 15,
      "outputs": [
        {
          "output_type": "error",
          "ename": "IndentationError",
          "evalue": "ignored",
          "traceback": [
            "\u001b[0;36m  File \u001b[0;32m\"<ipython-input-15-216191fc1ac3>\"\u001b[0;36m, line \u001b[0;32m11\u001b[0m\n\u001b[0;31m    continue\u001b[0m\n\u001b[0m    ^\u001b[0m\n\u001b[0;31mIndentationError\u001b[0m\u001b[0;31m:\u001b[0m unexpected indent\n"
          ]
        }
      ]
    },
    {
      "cell_type": "markdown",
      "metadata": {
        "id": "9So_QXNhWfc_"
      },
      "source": [
        "### csv 파일 만들기\n",
        "\n",
        "- newline 파라미터를 추가해야 하는 이유는? "
      ]
    },
    {
      "cell_type": "code",
      "metadata": {
        "id": "z0WLy0e-W7vw"
      },
      "source": [
        "#? 부분을 채워주세요\n",
        "filename = \"?\" # 파일이름을 짓기\n",
        "f = open(filename, \"w\", encoding=\"utf-8-sig\", newline=\"\")\n",
        "# newline 파라미터를 추가해야 하는 이유는? \n",
        "writer = csv.writer(f)\n",
        "\n",
        "title=\"N\t종목명\t현재가\t전일비\t등락률\t액면가\t시가총액\t상장주식수\t외국인비율\t거래량\tPER\tROE\t토론실\".split(\"\\t\")\n",
        "writer.writerow(title)\n",
        "\n",
        "for page in range(1,5):\n",
        "  res = requests.get(? + str(page)) \n",
        "  res.raise_for_status()\n",
        "  soup = BeautifulSoup(res.text, 'lxml')\n",
        "\n",
        "  data_rows = soup.find(\"table\", attrs={\"class\":\"type_2\"}).find(\"tbody\").find_all(\"tr\")\n",
        "  for row in data_rows:\n",
        "    columns = row.find_all(\"td\")\n",
        "    if len(columns) <= ?: \n",
        "      continue\n",
        "    data = [column.get_text().? for column in columns] \n",
        "    #print(data) 여기를 writer.writerow(data)로\n",
        "    writer.writerow(data)\n",
        "    "
      ],
      "execution_count": null,
      "outputs": []
    },
    {
      "cell_type": "markdown",
      "metadata": {
        "id": "kGvgcuDNYVis"
      },
      "source": [
        "### 파일 체크 하기"
      ]
    },
    {
      "cell_type": "code",
      "metadata": {
        "id": "VhDRu-99YXX4"
      },
      "source": [
        "import io\n",
        "import pandas as pd"
      ],
      "execution_count": null,
      "outputs": []
    },
    {
      "cell_type": "code",
      "metadata": {
        "colab": {
          "base_uri": "https://localhost:8080/",
          "height": 194
        },
        "id": "GEJ3z80XYBmS",
        "outputId": "0fb66bf8-1c42-463f-eae1-cff86892c76b"
      },
      "source": [
        "file_check = pd.read_csv(\"?\") # ? 부분을 채워주세요 (파일경로)\n",
        "file_check.head(5)"
      ],
      "execution_count": null,
      "outputs": [
        {
          "output_type": "execute_result",
          "data": {
            "text/html": [
              "<div>\n",
              "<style scoped>\n",
              "    .dataframe tbody tr th:only-of-type {\n",
              "        vertical-align: middle;\n",
              "    }\n",
              "\n",
              "    .dataframe tbody tr th {\n",
              "        vertical-align: top;\n",
              "    }\n",
              "\n",
              "    .dataframe thead th {\n",
              "        text-align: right;\n",
              "    }\n",
              "</style>\n",
              "<table border=\"1\" class=\"dataframe\">\n",
              "  <thead>\n",
              "    <tr style=\"text-align: right;\">\n",
              "      <th></th>\n",
              "      <th>N</th>\n",
              "      <th>종목명</th>\n",
              "      <th>현재가</th>\n",
              "      <th>전일비</th>\n",
              "      <th>등락률</th>\n",
              "      <th>액면가</th>\n",
              "      <th>시가총액</th>\n",
              "      <th>상장주식수</th>\n",
              "      <th>외국인비율</th>\n",
              "      <th>거래량</th>\n",
              "      <th>PER</th>\n",
              "      <th>ROE</th>\n",
              "      <th>토론실</th>\n",
              "    </tr>\n",
              "  </thead>\n",
              "  <tbody>\n",
              "    <tr>\n",
              "      <th>0</th>\n",
              "      <td>1</td>\n",
              "      <td>삼성전자</td>\n",
              "      <td>81,500</td>\n",
              "      <td>300</td>\n",
              "      <td>+0.37%</td>\n",
              "      <td>100</td>\n",
              "      <td>4,865,373</td>\n",
              "      <td>5,969,783</td>\n",
              "      <td>54.69</td>\n",
              "      <td>12,731,766</td>\n",
              "      <td>21.22</td>\n",
              "      <td>9.99</td>\n",
              "      <td>NaN</td>\n",
              "    </tr>\n",
              "    <tr>\n",
              "      <th>1</th>\n",
              "      <td>2</td>\n",
              "      <td>SK하이닉스</td>\n",
              "      <td>135,000</td>\n",
              "      <td>2,000</td>\n",
              "      <td>+1.50%</td>\n",
              "      <td>5,000</td>\n",
              "      <td>982,803</td>\n",
              "      <td>728,002</td>\n",
              "      <td>50.01</td>\n",
              "      <td>3,793,699</td>\n",
              "      <td>20.67</td>\n",
              "      <td>9.53</td>\n",
              "      <td>NaN</td>\n",
              "    </tr>\n",
              "    <tr>\n",
              "      <th>2</th>\n",
              "      <td>3</td>\n",
              "      <td>NAVER</td>\n",
              "      <td>383,000</td>\n",
              "      <td>3,000</td>\n",
              "      <td>+0.79%</td>\n",
              "      <td>100</td>\n",
              "      <td>629,129</td>\n",
              "      <td>164,263</td>\n",
              "      <td>57.09</td>\n",
              "      <td>689,120</td>\n",
              "      <td>62.82</td>\n",
              "      <td>15.22</td>\n",
              "      <td>NaN</td>\n",
              "    </tr>\n",
              "    <tr>\n",
              "      <th>3</th>\n",
              "      <td>4</td>\n",
              "      <td>삼성전자우</td>\n",
              "      <td>73,800</td>\n",
              "      <td>400</td>\n",
              "      <td>+0.54%</td>\n",
              "      <td>100</td>\n",
              "      <td>607,290</td>\n",
              "      <td>822,887</td>\n",
              "      <td>78.12</td>\n",
              "      <td>1,240,946</td>\n",
              "      <td>19.21</td>\n",
              "      <td>NaN</td>\n",
              "      <td>NaN</td>\n",
              "    </tr>\n",
              "    <tr>\n",
              "      <th>4</th>\n",
              "      <td>5</td>\n",
              "      <td>LG화학</td>\n",
              "      <td>802,000</td>\n",
              "      <td>14,000</td>\n",
              "      <td>+1.78%</td>\n",
              "      <td>5,000</td>\n",
              "      <td>566,151</td>\n",
              "      <td>70,592</td>\n",
              "      <td>44.17</td>\n",
              "      <td>362,028</td>\n",
              "      <td>122.46</td>\n",
              "      <td>2.93</td>\n",
              "      <td>NaN</td>\n",
              "    </tr>\n",
              "  </tbody>\n",
              "</table>\n",
              "</div>"
            ],
            "text/plain": [
              "   N     종목명      현재가     전일비     등락률  ...  외국인비율         거래량     PER    ROE 토론실\n",
              "0  1    삼성전자   81,500     300  +0.37%  ...  54.69  12,731,766   21.22   9.99 NaN\n",
              "1  2  SK하이닉스  135,000   2,000  +1.50%  ...  50.01   3,793,699   20.67   9.53 NaN\n",
              "2  3   NAVER  383,000   3,000  +0.79%  ...  57.09     689,120   62.82  15.22 NaN\n",
              "3  4   삼성전자우   73,800     400  +0.54%  ...  78.12   1,240,946   19.21    NaN NaN\n",
              "4  5    LG화학  802,000  14,000  +1.78%  ...  44.17     362,028  122.46   2.93 NaN\n",
              "\n",
              "[5 rows x 13 columns]"
            ]
          },
          "metadata": {
            "tags": []
          },
          "execution_count": 41
        }
      ]
    }
  ]
}